{
 "cells": [
  {
   "cell_type": "code",
   "execution_count": 2,
   "metadata": {},
   "outputs": [],
   "source": [
    "import glob\n",
    "\n",
    "image_files = glob.glob('voguefiles/**/*.jpg', recursive=True)"
   ]
  },
  {
   "cell_type": "code",
   "execution_count": 3,
   "metadata": {},
   "outputs": [
    {
     "name": "stdout",
     "output_type": "stream",
     "text": [
      "mkdir: resized: File exists\r\n"
     ]
    }
   ],
   "source": [
    "# this makes a folder called resized\n",
    "# do this manually if you are on a windows machine\n",
    "! mkdir resized"
   ]
  },
  {
   "cell_type": "code",
   "execution_count": 14,
   "metadata": {},
   "outputs": [],
   "source": [
    "from PIL import Image\n",
    "\n",
    "# this variable sets the max dimension we want\n",
    "# either width or height depending on image \n",
    "# aspect ratio\n",
    "\n",
    "max_dim = 400\n",
    "\n",
    "for image in image_files:\n",
    "    img = Image.open(image)\n",
    "    width, height = img.size\n",
    "    # if the width is larger, we'll resize that dimension but maintain the aspect ratio\n",
    "    if width > height:\n",
    "        new_width = max_dim\n",
    "        new_height = int(height * (new_width / width))\n",
    "    # if the height is greater than the width, we set the width to max_dim \n",
    "    # and then scale the width\n",
    "    elif height > width:\n",
    "        new_height = max_dim\n",
    "        new_width = int(width * (new_height / height))\n",
    "        \n",
    "    resized = img.resize((new_width, new_height))\n",
    "    filename = image.split('/')[-1].replace('\\\\', '')\n",
    "    resized.save('resized/' + filename)\n",
    "        "
   ]
  },
  {
   "cell_type": "code",
   "execution_count": null,
   "metadata": {},
   "outputs": [],
   "source": []
  }
 ],
 "metadata": {
  "kernelspec": {
   "display_name": "Python 3",
   "language": "python",
   "name": "python3"
  },
  "language_info": {
   "codemirror_mode": {
    "name": "ipython",
    "version": 3
   },
   "file_extension": ".py",
   "mimetype": "text/x-python",
   "name": "python",
   "nbconvert_exporter": "python",
   "pygments_lexer": "ipython3",
   "version": "3.7.4"
  }
 },
 "nbformat": 4,
 "nbformat_minor": 2
}
